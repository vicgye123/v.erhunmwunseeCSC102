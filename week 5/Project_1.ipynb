{
 "cells": [
  {
   "cell_type": "code",
   "execution_count": 15,
   "id": "3f4dadc3",
   "metadata": {},
   "outputs": [
    {
     "name": "stdout",
     "output_type": "stream",
     "text": [
      "Name  |  Age  | Height  |  Score\n",
      "Samantha | 17 | 5.5 | 80\n",
      "Charles | 19 | 5.7 | 74\n",
      "Jada | 16 | 6.0 | 85\n",
      "Jude | 16 | 5.9 | 87\n",
      "Jane | 17 | 5.4 | 70\n",
      "James | 18 | 5.9 | 75\n",
      "Claire | 18 | 5.9 | 60\n",
      "Kelvin | 17 | 5.5 | 68\n",
      "Elizabeth | 16 | 5.6 | 76\n",
      "Biodun | 20 | 6.1 | 66\n",
      "Mary | 18 | 5.5 | 66\n",
      "Wale | 19 | 5.4 | 78\n",
      "Susan | 17 | 6.1 | 87\n",
      "Kunle | 18 | 5.8 | 87\n",
      "Waje | 20 | 6.0 | 95\n",
      "Matthew | 17 | 5.7 | 98\n",
      "Taibat | 19 | 5.7 | 50\n",
      "Tom | 19 | 5.7 | 54\n",
      "Lilian | 17 | 5.5 | 49\n",
      "Kayode | 17 | 5.5 | 60\n"
     ]
    }
   ],
   "source": [
    "gnames = [\"Samantha\", \"Jada\", \"Jane\", \"Claire\", \"Elizabeth\", \"Mary\", \"Susan\", \"Waje\", \"Taibat\", \"Lilian\"]\n",
    "bnames = [\"Charles\", \"Jude\", \"James\", \"Kelvin\", \"Biodun\", \"Wale\", \"Kunle\", \"Matthew\", \"Tom\", \"Kayode\"]\n",
    "\n",
    "\n",
    "girlage = [17,16,17,18,16,18,17,20,19,17]\n",
    "boyage = [19,16,18,17,20,19,18,17,19,17]\n",
    "\n",
    "gheight = [5.5,6.0,5.4,5.9,5.6,5.5,6.1,6.0,5.7,5.5]\n",
    "bheight = [5.7,5.9,5.9,5.5,6.1,5.4,5.8,5.7,5.7,5.5]\n",
    "\n",
    "gscores = [80,85,70,60,76,66,87,95,50,49]\n",
    "bscores = [74,87,75,68,66,78,87,98,54,60]\n",
    "\n",
    "print(\"Name  |  Age  | Height  |  Score\")\n",
    "for i in range(len(gnames)):\n",
    "    print(gnames[i],\"|\", girlage[i],\"|\", gheight[i],\"|\", gscores[i])\n",
    "    print(bnames[i], \"|\", boyage[i], \"|\", bheight[i], \"|\", bscores[i])\n"
   ]
  },
  {
   "cell_type": "code",
   "execution_count": null,
   "id": "680cb05f",
   "metadata": {},
   "outputs": [],
   "source": []
  }
 ],
 "metadata": {
  "kernelspec": {
   "display_name": "Python 3 (ipykernel)",
   "language": "python",
   "name": "python3"
  },
  "language_info": {
   "codemirror_mode": {
    "name": "ipython",
    "version": 3
   },
   "file_extension": ".py",
   "mimetype": "text/x-python",
   "name": "python",
   "nbconvert_exporter": "python",
   "pygments_lexer": "ipython3",
   "version": "3.10.9"
  }
 },
 "nbformat": 4,
 "nbformat_minor": 5
}
