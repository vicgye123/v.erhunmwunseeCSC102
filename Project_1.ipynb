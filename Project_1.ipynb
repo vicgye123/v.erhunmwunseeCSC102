{
 "cells": [
  {
   "cell_type": "code",
   "execution_count": 2,
   "id": "67838533",
   "metadata": {
    "scrolled": false
   },
   "outputs": [
    {
     "name": "stdout",
     "output_type": "stream",
     "text": [
      "Enter your stock number: 10\n"
     ]
    },
    {
     "ename": "AttributeError",
     "evalue": "'Orange' object has no attribute 'stockchecker'",
     "output_type": "error",
     "traceback": [
      "\u001b[1;31m---------------------------------------------------------------------------\u001b[0m",
      "\u001b[1;31mAttributeError\u001b[0m                            Traceback (most recent call last)",
      "Cell \u001b[1;32mIn[2], line 14\u001b[0m\n\u001b[0;32m     12\u001b[0m stn \u001b[38;5;241m=\u001b[39m \u001b[38;5;28mint\u001b[39m(\u001b[38;5;28minput\u001b[39m(\u001b[38;5;124m\"\u001b[39m\u001b[38;5;124mEnter your stock number: \u001b[39m\u001b[38;5;124m\"\u001b[39m))\n\u001b[0;32m     13\u001b[0m james \u001b[38;5;241m=\u001b[39m Orange(stn)\n\u001b[1;32m---> 14\u001b[0m \u001b[43mjames\u001b[49m\u001b[38;5;241;43m.\u001b[39;49m\u001b[43mstockchecker\u001b[49m()\n",
      "\u001b[1;31mAttributeError\u001b[0m: 'Orange' object has no attribute 'stockchecker'"
     ]
    }
   ],
   "source": [
    "class Orange:\n",
    "    def __init__(self, stnumber):\n",
    "        self.stnumber = stnumber\n",
    "        \n",
    "        def stockchecker(self):\n",
    "            if self.stnumber > 20:\n",
    "                print(\"Your request is more than stock quantity.\")\n",
    "            else:\n",
    "                price = 5\n",
    "                print(\"Your bill is $\", self.stnumber*price)\n",
    "                    \n",
    "stn = int(input(\"Enter your stock number: \"))\n",
    "james = Orange(stn)\n",
    "james.stockchecker()\n"
   ]
  },
  {
   "cell_type": "code",
   "execution_count": null,
   "id": "6117a6a4",
   "metadata": {},
   "outputs": [],
   "source": [
    "def trapezium formula(self, height, base1, base2):\n",
    "    self.height = height\n",
    "    self.base1 = base1\n",
    "    self.base2 = base2\n",
    "    return self.height/2 * (self.base1 + self.base2)\n",
    "def rhombus (self, diagonal)"
   ]
  },
  {
   "cell_type": "code",
   "execution_count": null,
   "id": "39f3af57",
   "metadata": {},
   "outputs": [],
   "source": []
  }
 ],
 "metadata": {
  "kernelspec": {
   "display_name": "Python 3 (ipykernel)",
   "language": "python",
   "name": "python3"
  },
  "language_info": {
   "codemirror_mode": {
    "name": "ipython",
    "version": 3
   },
   "file_extension": ".py",
   "mimetype": "text/x-python",
   "name": "python",
   "nbconvert_exporter": "python",
   "pygments_lexer": "ipython3",
   "version": "3.10.9"
  }
 },
 "nbformat": 4,
 "nbformat_minor": 5
}
