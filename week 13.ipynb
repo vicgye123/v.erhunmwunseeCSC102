{
 "cells": [
  {
   "cell_type": "code",
   "execution_count": 8,
   "id": "54ee0e52",
   "metadata": {},
   "outputs": [
    {
     "name": "stdout",
     "output_type": "stream",
     "text": [
      "Welcome to the 1987 stock market crash information application\n",
      "                Company  Year Founded  Liability  Assets (Shares)  \\\n",
      "0     Enron Corporation          1987     200000          1000000   \n",
      "1  Anderson Corporation          1963     500000          1500000   \n",
      "2              GK Jones          2001    1500000          3000000   \n",
      "3       Mica Industries          1996      50000           250000   \n",
      "4       Dune Industries          2008     300000           800000   \n",
      "\n",
      "   Percentage Leverage (%)  \n",
      "0                    80.00  \n",
      "1                    66.67  \n",
      "2                    50.00  \n",
      "3                    80.00  \n",
      "4                    62.50  \n"
     ]
    }
   ],
   "source": [
    "import pandas as pd\n",
    "\n",
    "class crisis():\n",
    "        \n",
    "    def info(self):\n",
    "        data = {\"Company\": [\"Enron Corporation\", \"Anderson Corporation\", \"GK Jones\", \"Mica Industries\", \"Dune Industries\"], \n",
    "                \"Year Founded\": [1987, 1963, 2001, 1996, 2008],\n",
    "                \"Liability\": [200000, 500000, 1500000, 50000, 300000],\n",
    "                \"Assets (Shares)\": [1000000, 1500000, 3000000, 250000, 800000],\n",
    "                \"Percentage Leverage (%)\": [80.00, 66.67, 50.00, 80.00, 62.5]}\n",
    "        df = pd.DataFrame(data)\n",
    "        df.to_csv(\"dotcom-bubble.csv\")\n",
    "        print(df)\n",
    "        \n",
    "print(\"Welcome to the 1987 stock market crash information application\")\n",
    "object = crisis()\n",
    "object.info()"
   ]
  },
  {
   "cell_type": "code",
   "execution_count": null,
   "id": "ca3bc8ed",
   "metadata": {},
   "outputs": [
    {
     "name": "stdout",
     "output_type": "stream",
     "text": [
      "Welcome to the Pan-Atlantic University Student Information Management System (SIMS)\n"
     ]
    }
   ],
   "source": [
    "import pandas as pd\n",
    "\n",
    "class SIMS():\n",
    "    \n",
    "    def __init__(self):\n",
    "        self.final_records = []\n",
    "    \n",
    "    def collate(self, names, matric, dept, level):\n",
    "        data = {\"Names\": names, \"Matric. Numbers\" : matric, \"Department\": dept, \"Level\" : level}\n",
    "        self.final_records.append(data)\n",
    "        \n",
    "    def save(self):\n",
    "        df = pd.DataFrame(self.final_records)\n",
    "        df.to_csv('pau-sims.csv')\n",
    "        print (df)\n",
    "        \n",
    "print(\"Welcome to the Pan-Atlantic University Student Information Management System (SIMS)\")\n",
    "number = int(input(\"How many students is this program running for?\"))\n",
    "obj = SIMS()\n",
    "for x in range(number):\n",
    "    names = input(\"What is your full name? \")     \n",
    "    matric = input(\"What is your matriculation number? \")\n",
    "    dept = input(\"What is your department? \")\n",
    "    level = input(\"What level are you in? \")\n",
    "    obj.collate(names, matric, dept, level)\n",
    "\n",
    "obj.save()"
   ]
  },
  {
   "cell_type": "code",
   "execution_count": null,
   "id": "fd1f8e83",
   "metadata": {},
   "outputs": [],
   "source": []
  }
 ],
 "metadata": {
  "kernelspec": {
   "display_name": "Python 3 (ipykernel)",
   "language": "python",
   "name": "python3"
  },
  "language_info": {
   "codemirror_mode": {
    "name": "ipython",
    "version": 3
   },
   "file_extension": ".py",
   "mimetype": "text/x-python",
   "name": "python",
   "nbconvert_exporter": "python",
   "pygments_lexer": "ipython3",
   "version": "3.10.9"
  }
 },
 "nbformat": 4,
 "nbformat_minor": 5
}
